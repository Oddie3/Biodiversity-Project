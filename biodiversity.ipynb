{
 "cells": [
  {
   "cell_type": "code",
   "execution_count": null,
   "metadata": {},
   "outputs": [],
   "source": [
    "import subprocess\n",
    "import pandas as pd\n",
    "import matplotlib.pyplot as plt\n",
    "\n",
    "# Function to run shell commands\n",
    "def run_command(command):\n",
    "    process = subprocess.run(command, shell=True, check=True, text=True, capture_output=True)\n",
    "    print(process.stdout)\n",
    "\n",
    "# Step 1: Echo \"# Biodiversity-Project\" >> README.md\n",
    "with open(\"README.md\", \"w\") as file:\n",
    "    file.write(\"# Biodiversity-Project\\n\")\n",
    "\n",
    "# Step 2: git init\n",
    "run_command(\"git init\")\n",
    "\n",
    "# Step 3: git add README.md\n",
    "run_command(\"git add README.md\")\n",
    "\n",
    "# Step 4: git commit -m \"first commit\"\n",
    "run_command('git commit -m \"first commit\"')\n",
    "\n",
    "# Step 5: git branch -M main\n",
    "run_command(\"git branch -M main\")\n",
    "\n",
    "# Step 6: git remote add origin https://github.com/Oddie3/Biodiversity-Project.git\n",
    "run_command(\"git remote add origin https://github.com/Oddie3/Biodiversity-Project.git\")\n",
    "\n",
    "# Step 7: git push -u origin main\n",
    "run_command(\"git push -u origin main\")"
   ]
  },
  {
   "cell_type": "code",
   "execution_count": 36,
   "metadata": {},
   "outputs": [
    {
     "name": "stdout",
     "output_type": "stream",
     "text": [
      "category               object\n",
      "scientific_name        object\n",
      "common_names           object\n",
      "conservation_status    object\n",
      "dtype: object\n",
      "scientific_name    object\n",
      "park_name          object\n",
      "observations        int64\n",
      "dtype: object\n",
      "<bound method NDFrame.describe of             category                scientific_name  \\\n",
      "0             Mammal  Clethrionomys gapperi gapperi   \n",
      "1             Mammal                      Bos bison   \n",
      "2             Mammal                     Bos taurus   \n",
      "3             Mammal                     Ovis aries   \n",
      "4             Mammal                 Cervus elaphus   \n",
      "...              ...                            ...   \n",
      "5819  Vascular Plant               Solanum parishii   \n",
      "5820  Vascular Plant                  Solanum xanti   \n",
      "5821  Vascular Plant         Parthenocissus vitacea   \n",
      "5822  Vascular Plant              Vitis californica   \n",
      "5823  Vascular Plant            Tribulus terrestris   \n",
      "\n",
      "                                           common_names conservation_status  \n",
      "0                              Gapper's Red-Backed Vole                 NaN  \n",
      "1                                 American Bison, Bison                 NaN  \n",
      "2     Aurochs, Aurochs, Domestic Cattle (Feral), Dom...                 NaN  \n",
      "3     Domestic Sheep, Mouflon, Red Sheep, Sheep (Feral)                 NaN  \n",
      "4                                         Wapiti Or Elk                 NaN  \n",
      "...                                                 ...                 ...  \n",
      "5819                                Parish's Nightshade                 NaN  \n",
      "5820            Chaparral Nightshade, Purple Nightshade                 NaN  \n",
      "5821        Thicket Creeper, Virginia Creeper, Woodbine                 NaN  \n",
      "5822            California Grape, California Wild Grape                 NaN  \n",
      "5823  Bullhead, Caltrop, Goathead, Mexican Sandbur, ...                 NaN  \n",
      "\n",
      "[5824 rows x 4 columns]>\n",
      "<bound method NDFrame.describe of                                scientific_name  \\\n",
      "0                           Vicia benghalensis   \n",
      "1                               Neovison vison   \n",
      "2                            Prunus subcordata   \n",
      "3                         Abutilon theophrasti   \n",
      "4                     Githopsis specularioides   \n",
      "...                                        ...   \n",
      "23291                     Croton monanthogynus   \n",
      "23292                 Otospermophilus beecheyi   \n",
      "23293  Heterotheca sessiliflora ssp. echioides   \n",
      "23294                     Dicranella rufescens   \n",
      "23295                           Cucurbita pepo   \n",
      "\n",
      "                                 park_name  observations  \n",
      "0      Great Smoky Mountains National Park            68  \n",
      "1      Great Smoky Mountains National Park            77  \n",
      "2                   Yosemite National Park           138  \n",
      "3                      Bryce National Park            84  \n",
      "4      Great Smoky Mountains National Park            85  \n",
      "...                                    ...           ...  \n",
      "23291               Yosemite National Park           173  \n",
      "23292                  Bryce National Park           130  \n",
      "23293                  Bryce National Park           140  \n",
      "23294               Yosemite National Park           171  \n",
      "23295               Yosemite National Park           164  \n",
      "\n",
      "[23296 rows x 3 columns]>\n"
     ]
    }
   ],
   "source": [
    "species_data = pd.read_csv(r\"C:\\Users\\Exec\\Downloads\\biodiversity-starter\\biodiversity_starter\\species_info.csv\")  # Replace with actual filename\n",
    "observations_data = pd.read_csv(r\"C:\\Users\\Exec\\Downloads\\biodiversity-starter\\biodiversity_starter\\observations.csv\")\n",
    "print(species_data.dtypes)\n",
    "print(observations_data.dtypes)\n",
    "print(species_data.describe)\n",
    "print(observations_data.describe)"
   ]
  },
  {
   "cell_type": "code",
   "execution_count": null,
   "metadata": {},
   "outputs": [],
   "source": [
    "species_data['conservation_status'] = species_data['conservation_status'].fillna('Unknown')\n",
    "unknown_status_percentage = (species_data['conservation_status'] == 'Unknown').mean() * 100\n",
    "print(unknown_status_percentage)"
   ]
  },
  {
   "cell_type": "code",
   "execution_count": null,
   "metadata": {},
   "outputs": [],
   "source": [
    "labels = ['Endangered', 'Threatened', 'Species of Concern', 'Unknown']\n",
    "for category in species_data['category'].unique():\n",
    "    category_data = species_data[species_data['category'] == category]\n",
    "    status_counts = category_data['conservation_status'].value_counts()\n",
    "    \n",
    "    plt.figure(figsize=(6,6))\n",
    "    plt.pie(status_counts, autopct='%1.1f%%', startangle=90)\n",
    "    plt.title(f'Conservation Status Distribution for {category}')\n",
    "    plt.legend(labels, loc=\"best\")\n",
    "    plt.show()"
   ]
  },
  {
   "cell_type": "code",
   "execution_count": 25,
   "metadata": {},
   "outputs": [
    {
     "name": "stdout",
     "output_type": "stream",
     "text": [
      "park_name\n",
      "Bryce National Park                    15\n",
      "Great Smoky Mountains National Park    15\n",
      "Yellowstone National Park              15\n",
      "Yosemite National Park                 15\n",
      "Name: scientific_name, dtype: int64\n"
     ]
    }
   ],
   "source": [
    "# Filter for endangered species\n",
    "endangered_species = species_data[species_data['conservation_status'] == 'Endangered']\n",
    "\n",
    "# Merge with observation data\n",
    "endangered_observations = pd.merge(endangered_species, observations_data, on='scientific_name')\n",
    "\n",
    "# Count the number of endangered species by park\n",
    "endangered_by_park = endangered_observations.groupby('park_name')['scientific_name'].nunique()\n",
    "\n",
    "print(endangered_by_park)"
   ]
  },
  {
   "cell_type": "code",
   "execution_count": 28,
   "metadata": {},
   "outputs": [
    {
     "name": "stdout",
     "output_type": "stream",
     "text": [
      "         scientific_name  observations                            park_name\n",
      "2            Canis lupus           660            Yellowstone National Park\n",
      "3            Canis lupus           392               Yosemite National Park\n",
      "0            Canis lupus           260                  Bryce National Park\n",
      "1            Canis lupus           118  Great Smoky Mountains National Park\n",
      "14  Etheostoma percnurum            70            Yellowstone National Park\n"
     ]
    }
   ],
   "source": [
    "# Filter for endangered species\n",
    "endangered_species = species_data[species_data['conservation_status'] == 'Endangered']\n",
    "\n",
    "# Merge endangered species with observations data, including park name in the resulting DataFrame\n",
    "endangered_observations = pd.merge(\n",
    "    endangered_species[['scientific_name', 'conservation_status']],\n",
    "    observations_data[['scientific_name', 'park_name', 'observations']],\n",
    "    on='scientific_name'\n",
    ")\n",
    "\n",
    "# Group by species and park, summing the observations\n",
    "species_park_observations = endangered_observations.groupby(['scientific_name', 'park_name']).sum().reset_index()\n",
    "\n",
    "# Sort by the number of observations to find frequently observed endangered species\n",
    "species_park_observations_sorted = species_park_observations.sort_values(by='observations', ascending=False)\n",
    "\n",
    "# Display the results\n",
    "print(species_park_observations_sorted[['scientific_name', 'observations', 'park_name']].head())\n"
   ]
  },
  {
   "cell_type": "code",
   "execution_count": 31,
   "metadata": {},
   "outputs": [
    {
     "name": "stdout",
     "output_type": "stream",
     "text": [
      "          scientific_name  observations conservation_status\n",
      "3488     Myotis lucifugus          1547  Species of Concern\n",
      "3487     Myotis lucifugus          1547  Species of Concern\n",
      "3489     Myotis lucifugus          1547  Species of Concern\n",
      "3480  Myotis californicus          1107  Species of Concern\n",
      "3479  Myotis californicus          1107  Species of Concern\n"
     ]
    }
   ],
   "source": [
    "# Group by species and sum observations across parks\n",
    "total_observations = observations_data.groupby('scientific_name')['observations'].sum().reset_index()\n",
    "\n",
    "# Merge with species data to get conservation status\n",
    "species_conservation_obs = pd.merge(total_observations, species_data, on='scientific_name')\n",
    "\n",
    "observed_species_filtered = species_conservation_obs[species_conservation_obs['conservation_status'] != 'Unknown']\n",
    "\n",
    "# Sort the filtered DataFrame by observations in descending order\n",
    "most_observed_species = observed_species_filtered.sort_values(by='observations', ascending=False)\n",
    "\n",
    "# Display the results\n",
    "print(most_observed_species[['scientific_name', 'observations', 'conservation_status']].head())\n"
   ]
  },
  {
   "cell_type": "code",
   "execution_count": null,
   "metadata": {},
   "outputs": [],
   "source": [
    "run_command(\"git add .\")\n",
    "\n",
    "# Step 3: Commit your changes\n",
    "run_command('git commit -m \"Your commit message here\"')\n",
    "\n",
    "# Step 4: Push to remote repository\n",
    "run_command(\"git push -u origin main\")"
   ]
  }
 ],
 "metadata": {
  "kernelspec": {
   "display_name": "Python 3",
   "language": "python",
   "name": "python3"
  },
  "language_info": {
   "codemirror_mode": {
    "name": "ipython",
    "version": 3
   },
   "file_extension": ".py",
   "mimetype": "text/x-python",
   "name": "python",
   "nbconvert_exporter": "python",
   "pygments_lexer": "ipython3",
   "version": "3.12.6"
  }
 },
 "nbformat": 4,
 "nbformat_minor": 4
}
